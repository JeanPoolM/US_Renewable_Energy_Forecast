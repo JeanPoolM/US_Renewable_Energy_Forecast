{
 "cells": [
  {
   "cell_type": "markdown",
   "id": "aae6b97e",
   "metadata": {},
   "source": [
    "*algo"
   ]
  }
 ],
 "metadata": {
  "language_info": {
   "name": "python"
  }
 },
 "nbformat": 4,
 "nbformat_minor": 5
}
